{
 "cells": [
  {
   "cell_type": "markdown",
   "metadata": {},
   "source": [
    "# Experiment Tracking\n",
    "\n",
    "Purpose of this notebook is to document the good practices that I found from studying the following git page:\n",
    "\n",
    "Ref Link: https://particle1331.github.io/ok-transformer/nb/mlops/03-mlflow.html#hpo-with-xgboost"
   ]
  },
  {
   "cell_type": "markdown",
   "metadata": {},
   "source": [
    "First, we need to run mlflow in the background in order to track the logs for our training. To do this, please use the following command shown here:\n",
    "\n",
    "```bash\n",
    "mlflow server -h 127.0.0.1 -p 5001 --backend-store-uri=sqlite:///mlflow.db --default-artifact-root=./artifacts\n",
    "```\n",
    "\n",
    "SQLite is used to store logs internally in our local file storage, while ./artifacts is used to store the artifacts from mlflow.\n",
    "\n",
    "I'll experiment with local stack next time to configure an S3 based artifact, so I can study local stack and integrate with mlflow (2 birds 1 stone)."
   ]
  },
  {
   "cell_type": "markdown",
   "metadata": {},
   "source": [
    "The following displays the project structure I am following for experiment-tracking:"
   ]
  },
  {
   "cell_type": "code",
   "execution_count": 5,
   "metadata": {},
   "outputs": [
    {
     "name": "stdout",
     "output_type": "stream",
     "text": [
      "\u001b[34;42m.\u001b[00m\n",
      "├── \u001b[34;42mconfig\u001b[00m\n",
      "│   ├── __init__.py\n",
      "│   └── core.py\n",
      "├── \u001b[34;42mdata\u001b[00m\n",
      "│   ├── green_tripdata_2021-01.parquet\n",
      "│   └── green_tripdata_2021-02.parquet\n",
      "├── model_linear.py\n",
      "├── model_linear_pudo.py\n",
      "├── model_trees.py\n",
      "├── notebook.ipynb\n",
      "├── \u001b[34;42mproperties\u001b[00m\n",
      "│   └── config.yaml\n",
      "├── requirements.txt\n",
      "└── \u001b[34;42mutils\u001b[00m\n",
      "    ├── __init__.py\n",
      "    ├── df_process.py\n",
      "    ├── df_util.py\n",
      "    └── feature_util.py\n",
      "\n",
      "4 directories, 14 files\n"
     ]
    }
   ],
   "source": [
    "!tree --prune -I 'venv'"
   ]
  },
  {
   "cell_type": "markdown",
   "metadata": {},
   "source": [
    "`config` holds the config class which reads the config yaml from `properties` dir\n",
    "\n",
    "`data` holds the raw data for this project\n",
    "\n",
    "`utils` holds the util classes for model classes"
   ]
  },
  {
   "cell_type": "markdown",
   "metadata": {},
   "source": [
    "The following lines will show the source code of the important classes used. Starting with `df_*` classes and `config`"
   ]
  },
  {
   "cell_type": "code",
   "execution_count": 6,
   "metadata": {},
   "outputs": [
    {
     "name": "stdout",
     "output_type": "stream",
     "text": [
      "RANDOM_STATE: 0\n",
      "\n",
      "TARGET: duration\n",
      "TARGET_MIN: 1\n",
      "TARGET_MAX: 60\n",
      "\n",
      "TRAIN_SAMPLE: \"green_tripdata_2021-01.parquet\"\n",
      "VALID_SAMPLE: \"green_tripdata_2021-02.parquet\"\n",
      "MODEL_SAMPLE: \"model_pipe.pkl\"\n",
      "\n",
      "FEATURES:\n",
      "  - PULocationID\n",
      "  - DOLocationID\n",
      "  - trip_distance\n",
      "\n",
      "CAT_FEATURES:\n",
      "  - PULocationID\n",
      "  - DOLocationID\n",
      "\n",
      "NUM_FEATURES:\n",
      "  - trip_distance\n"
     ]
    }
   ],
   "source": [
    "!cat ./properties/config.yaml"
   ]
  },
  {
   "cell_type": "code",
   "execution_count": 7,
   "metadata": {},
   "outputs": [
    {
     "name": "stdout",
     "output_type": "stream",
     "text": [
      "\u001b[38;2;0;128;0;01mfrom\u001b[39;00m \u001b[38;2;0;0;255;01mpathlib\u001b[39;00m \u001b[38;2;0;128;0;01mimport\u001b[39;00m Path\n",
      "\n",
      "\u001b[38;2;0;128;0;01mfrom\u001b[39;00m \u001b[38;2;0;0;255;01mpydantic\u001b[39;00m \u001b[38;2;0;128;0;01mimport\u001b[39;00m BaseModel\n",
      "\u001b[38;2;0;128;0;01mfrom\u001b[39;00m \u001b[38;2;0;0;255;01mstrictyaml\u001b[39;00m \u001b[38;2;0;128;0;01mimport\u001b[39;00m load\n",
      "\n",
      "\u001b[38;2;61;123;123;03m# Project directories\u001b[39;00m\n",
      "PACKAGE_ROOT \u001b[38;2;102;102;102m=\u001b[39m Path(\u001b[38;2;25;23;124m__file__\u001b[39m)\u001b[38;2;102;102;102m.\u001b[39mresolve()\u001b[38;2;102;102;102m.\u001b[39mparents[\u001b[38;2;102;102;102m1\u001b[39m]\n",
      "ROOT \u001b[38;2;102;102;102m=\u001b[39m PACKAGE_ROOT\u001b[38;2;102;102;102m.\u001b[39mparent\n",
      "CONFIG_FILE_PATH \u001b[38;2;102;102;102m=\u001b[39m PACKAGE_ROOT \u001b[38;2;102;102;102m/\u001b[39m \u001b[38;2;186;33;33m\"\u001b[39m\u001b[38;2;186;33;33mproperties\u001b[39m\u001b[38;2;186;33;33m\"\u001b[39m \u001b[38;2;102;102;102m/\u001b[39m \u001b[38;2;186;33;33m\"\u001b[39m\u001b[38;2;186;33;33mconfig.yaml\u001b[39m\u001b[38;2;186;33;33m\"\u001b[39m\n",
      "DATASET_DIR \u001b[38;2;102;102;102m=\u001b[39m PACKAGE_ROOT \u001b[38;2;102;102;102m/\u001b[39m \u001b[38;2;186;33;33m\"\u001b[39m\u001b[38;2;186;33;33mdata\u001b[39m\u001b[38;2;186;33;33m\"\u001b[39m\n",
      "MODEL_DIR \u001b[38;2;102;102;102m=\u001b[39m PACKAGE_ROOT \u001b[38;2;102;102;102m/\u001b[39m \u001b[38;2;186;33;33m\"\u001b[39m\u001b[38;2;186;33;33mmodels\u001b[39m\u001b[38;2;186;33;33m\"\u001b[39m\n",
      "\n",
      "\n",
      "\u001b[38;2;61;123;123;03m# Load core config object\u001b[39;00m\n",
      "\u001b[38;2;0;128;0;01mclass\u001b[39;00m \u001b[38;2;0;0;255;01mConfig\u001b[39;00m(BaseModel):\n",
      "    TARGET: \u001b[38;2;0;128;0mstr\u001b[39m\n",
      "    TARGET_MIN: \u001b[38;2;0;128;0mint\u001b[39m\n",
      "    TARGET_MAX: \u001b[38;2;0;128;0mint\u001b[39m\n",
      "    RANDOM_STATE: \u001b[38;2;0;128;0mint\u001b[39m\n",
      "    FEATURES: \u001b[38;2;0;128;0mlist\u001b[39m[\u001b[38;2;0;128;0mstr\u001b[39m]\n",
      "    NUM_FEATURES: \u001b[38;2;0;128;0mlist\u001b[39m[\u001b[38;2;0;128;0mstr\u001b[39m]\n",
      "    CAT_FEATURES: \u001b[38;2;0;128;0mlist\u001b[39m[\u001b[38;2;0;128;0mstr\u001b[39m]\n",
      "    TRAIN_SAMPLE: \u001b[38;2;0;128;0mstr\u001b[39m\n",
      "    VALID_SAMPLE: \u001b[38;2;0;128;0mstr\u001b[39m\n",
      "    MODEL_SAMPLE: \u001b[38;2;0;128;0mstr\u001b[39m\n",
      "\n",
      "\u001b[38;2;0;128;0;01mwith\u001b[39;00m \u001b[38;2;0;128;0mopen\u001b[39m(CONFIG_FILE_PATH, \u001b[38;2;186;33;33m\"\u001b[39m\u001b[38;2;186;33;33mr\u001b[39m\u001b[38;2;186;33;33m\"\u001b[39m) \u001b[38;2;0;128;0;01mas\u001b[39;00m f:\n",
      "    config_file \u001b[38;2;102;102;102m=\u001b[39m f\u001b[38;2;102;102;102m.\u001b[39mread()\n",
      "\n",
      "config \u001b[38;2;102;102;102m=\u001b[39m Config(\u001b[38;2;102;102;102m*\u001b[39m\u001b[38;2;102;102;102m*\u001b[39mload(config_file)\u001b[38;2;102;102;102m.\u001b[39mdata)\n"
     ]
    }
   ],
   "source": [
    "!pygmentize ./config/core.py"
   ]
  },
  {
   "cell_type": "code",
   "execution_count": 8,
   "metadata": {},
   "outputs": [
    {
     "name": "stdout",
     "output_type": "stream",
     "text": [
      "\u001b[38;2;0;128;0;01mimport\u001b[39;00m \u001b[38;2;0;0;255;01mseaborn\u001b[39;00m \u001b[38;2;0;128;0;01mas\u001b[39;00m \u001b[38;2;0;0;255;01msns\u001b[39;00m\n",
      "\u001b[38;2;0;128;0;01mimport\u001b[39;00m \u001b[38;2;0;0;255;01mmatplotlib\u001b[39;00m\u001b[38;2;0;0;255;01m.\u001b[39;00m\u001b[38;2;0;0;255;01mpyplot\u001b[39;00m \u001b[38;2;0;128;0;01mas\u001b[39;00m \u001b[38;2;0;0;255;01mplt\u001b[39;00m\n",
      "\n",
      "\u001b[38;2;0;128;0;01mfrom\u001b[39;00m \u001b[38;2;0;0;255;01mconfig\u001b[39;00m \u001b[38;2;0;128;0;01mimport\u001b[39;00m config\n",
      "\n",
      "\u001b[38;2;0;128;0;01mdef\u001b[39;00m \u001b[38;2;0;0;255mcreate_target_column\u001b[39m(df):\n",
      "    \u001b[38;2;186;33;33m\"\u001b[39m\u001b[38;2;186;33;33mCreate target column\u001b[39m\u001b[38;2;186;33;33m\"\u001b[39m\n",
      "    df[config\u001b[38;2;102;102;102m.\u001b[39mTARGET] \u001b[38;2;102;102;102m=\u001b[39m df\u001b[38;2;102;102;102m.\u001b[39mlpep_dropoff_datetime \u001b[38;2;102;102;102m-\u001b[39m df\u001b[38;2;102;102;102m.\u001b[39mlpep_pickup_datetime\n",
      "    df[config\u001b[38;2;102;102;102m.\u001b[39mTARGET] \u001b[38;2;102;102;102m=\u001b[39m df[config\u001b[38;2;102;102;102m.\u001b[39mTARGET]\u001b[38;2;102;102;102m.\u001b[39mdt\u001b[38;2;102;102;102m.\u001b[39mtotal_seconds() \u001b[38;2;102;102;102m/\u001b[39m \u001b[38;2;102;102;102m60\u001b[39m\n",
      "    \u001b[38;2;0;128;0;01mreturn\u001b[39;00m df\n",
      "\n",
      "\u001b[38;2;0;128;0;01mdef\u001b[39;00m \u001b[38;2;0;0;255mfilter_ride_duration\u001b[39m(df):\n",
      "\u001b[38;2;187;187;187m    \u001b[39m\u001b[38;2;186;33;33;03m\"\"\"Filter rides with target outliers\"\"\"\u001b[39;00m\n",
      "    mask \u001b[38;2;102;102;102m=\u001b[39m (df[config\u001b[38;2;102;102;102m.\u001b[39mTARGET] \u001b[38;2;102;102;102m>\u001b[39m\u001b[38;2;102;102;102m=\u001b[39m config\u001b[38;2;102;102;102m.\u001b[39mTARGET_MIN) \u001b[38;2;102;102;102m&\u001b[39m (df[config\u001b[38;2;102;102;102m.\u001b[39mTARGET] \u001b[38;2;102;102;102m<\u001b[39m\u001b[38;2;102;102;102m=\u001b[39m config\u001b[38;2;102;102;102m.\u001b[39mTARGET_MAX)\n",
      "    \u001b[38;2;0;128;0;01mreturn\u001b[39;00m df[mask]\n",
      "\n",
      "\u001b[38;2;0;128;0;01mdef\u001b[39;00m \u001b[38;2;0;0;255mplot_duration_histograms\u001b[39m(y_train, yp_train, y_valid, yp_valid):\n",
      "\u001b[38;2;187;187;187m    \u001b[39m\u001b[38;2;186;33;33;03m\"\"\"Plot true and prediction distributions of ride duration.\"\"\"\u001b[39;00m\n",
      "\n",
      "    \u001b[38;2;61;123;123;03m# fmt: off\u001b[39;00m\n",
      "    fig, ax \u001b[38;2;102;102;102m=\u001b[39m plt\u001b[38;2;102;102;102m.\u001b[39msubplots(\u001b[38;2;102;102;102m1\u001b[39m, \u001b[38;2;102;102;102m2\u001b[39m, figsize\u001b[38;2;102;102;102m=\u001b[39m(\u001b[38;2;102;102;102m8\u001b[39m, \u001b[38;2;102;102;102m4\u001b[39m))\n",
      "    pred_config \u001b[38;2;102;102;102m=\u001b[39m \u001b[38;2;0;128;0mdict\u001b[39m(label\u001b[38;2;102;102;102m=\u001b[39m\u001b[38;2;186;33;33m'\u001b[39m\u001b[38;2;186;33;33mpred\u001b[39m\u001b[38;2;186;33;33m'\u001b[39m, color\u001b[38;2;102;102;102m=\u001b[39m\u001b[38;2;186;33;33m'\u001b[39m\u001b[38;2;186;33;33mC0\u001b[39m\u001b[38;2;186;33;33m'\u001b[39m, stat\u001b[38;2;102;102;102m=\u001b[39m\u001b[38;2;186;33;33m'\u001b[39m\u001b[38;2;186;33;33mdensity\u001b[39m\u001b[38;2;186;33;33m'\u001b[39m, kde\u001b[38;2;102;102;102m=\u001b[39m\u001b[38;2;186;33;33m'\u001b[39m\u001b[38;2;186;33;33mTrue\u001b[39m\u001b[38;2;186;33;33m'\u001b[39m)\n",
      "    true_config \u001b[38;2;102;102;102m=\u001b[39m \u001b[38;2;0;128;0mdict\u001b[39m(label\u001b[38;2;102;102;102m=\u001b[39m\u001b[38;2;186;33;33m'\u001b[39m\u001b[38;2;186;33;33mtrue\u001b[39m\u001b[38;2;186;33;33m'\u001b[39m, color\u001b[38;2;102;102;102m=\u001b[39m\u001b[38;2;186;33;33m'\u001b[39m\u001b[38;2;186;33;33mC1\u001b[39m\u001b[38;2;186;33;33m'\u001b[39m, stat\u001b[38;2;102;102;102m=\u001b[39m\u001b[38;2;186;33;33m'\u001b[39m\u001b[38;2;186;33;33mdensity\u001b[39m\u001b[38;2;186;33;33m'\u001b[39m, kde\u001b[38;2;102;102;102m=\u001b[39m\u001b[38;2;186;33;33m'\u001b[39m\u001b[38;2;186;33;33mTrue\u001b[39m\u001b[38;2;186;33;33m'\u001b[39m)\n",
      "    \n",
      "    ax[\u001b[38;2;102;102;102m0\u001b[39m]\u001b[38;2;102;102;102m.\u001b[39mset_title(\u001b[38;2;186;33;33m\"\u001b[39m\u001b[38;2;186;33;33mtrain\u001b[39m\u001b[38;2;186;33;33m\"\u001b[39m)\n",
      "    sns\u001b[38;2;102;102;102m.\u001b[39mhistplot(yp_train, ax\u001b[38;2;102;102;102m=\u001b[39max[\u001b[38;2;102;102;102m0\u001b[39m], \u001b[38;2;102;102;102m*\u001b[39m\u001b[38;2;102;102;102m*\u001b[39mpred_config)\n",
      "    sns\u001b[38;2;102;102;102m.\u001b[39mhistplot(y_train, ax\u001b[38;2;102;102;102m=\u001b[39max[\u001b[38;2;102;102;102m0\u001b[39m], \u001b[38;2;102;102;102m*\u001b[39m\u001b[38;2;102;102;102m*\u001b[39mtrue_config)\n",
      "\n",
      "    ax[\u001b[38;2;102;102;102m1\u001b[39m]\u001b[38;2;102;102;102m.\u001b[39mset_title(\u001b[38;2;186;33;33m\"\u001b[39m\u001b[38;2;186;33;33mvalid\u001b[39m\u001b[38;2;186;33;33m\"\u001b[39m)\n",
      "    sns\u001b[38;2;102;102;102m.\u001b[39mhistplot(yp_valid, ax\u001b[38;2;102;102;102m=\u001b[39max[\u001b[38;2;102;102;102m1\u001b[39m], \u001b[38;2;102;102;102m*\u001b[39m\u001b[38;2;102;102;102m*\u001b[39mpred_config)\n",
      "    sns\u001b[38;2;102;102;102m.\u001b[39mhistplot(y_train, ax\u001b[38;2;102;102;102m=\u001b[39max[\u001b[38;2;102;102;102m1\u001b[39m], \u001b[38;2;102;102;102m*\u001b[39m\u001b[38;2;102;102;102m*\u001b[39mtrue_config)\n",
      "\n",
      "    ax[\u001b[38;2;102;102;102m0\u001b[39m]\u001b[38;2;102;102;102m.\u001b[39mlegend()\n",
      "    ax[\u001b[38;2;102;102;102m1\u001b[39m]\u001b[38;2;102;102;102m.\u001b[39mlegend()\n",
      "    fig\u001b[38;2;102;102;102m.\u001b[39mtight_layout()\n",
      "\n",
      "    \u001b[38;2;0;128;0;01mreturn\u001b[39;00m fig\n"
     ]
    }
   ],
   "source": [
    "!pygmentize ./utils/df_util.py"
   ]
  },
  {
   "cell_type": "code",
   "execution_count": 9,
   "metadata": {},
   "outputs": [
    {
     "name": "stdout",
     "output_type": "stream",
     "text": [
      "\u001b[38;2;0;128;0;01mimport\u001b[39;00m \u001b[38;2;0;0;255;01mpandas\u001b[39;00m \u001b[38;2;0;128;0;01mas\u001b[39;00m \u001b[38;2;0;0;255;01mpd\u001b[39;00m\n",
      "\n",
      "\u001b[38;2;0;128;0;01mfrom\u001b[39;00m \u001b[38;2;0;0;255;01mdf_util\u001b[39;00m \u001b[38;2;0;128;0;01mimport\u001b[39;00m create_target_column, filter_ride_duration\n",
      "\u001b[38;2;0;128;0;01mfrom\u001b[39;00m \u001b[38;2;0;0;255;01mconfig\u001b[39;00m \u001b[38;2;0;128;0;01mimport\u001b[39;00m config\n",
      "\n",
      "\u001b[38;2;0;128;0;01mdef\u001b[39;00m \u001b[38;2;0;0;255mpreprocess\u001b[39m(data: pd\u001b[38;2;102;102;102m.\u001b[39mDataFrame, target: \u001b[38;2;0;128;0mbool\u001b[39m, filter_target: \u001b[38;2;0;128;0mbool\u001b[39m \u001b[38;2;102;102;102m=\u001b[39m \u001b[38;2;0;128;0;01mFalse\u001b[39;00m):\n",
      "\u001b[38;2;187;187;187m    \u001b[39m\u001b[38;2;186;33;33;03m\"\"\"Process and clean data for feature transofrmation\"\"\"\u001b[39;00m\n",
      "\n",
      "    data[config\u001b[38;2;102;102;102m.\u001b[39mCAT_FEATURES] \u001b[38;2;102;102;102m=\u001b[39m data[config\u001b[38;2;102;102;102m.\u001b[39mCAT_FEATURES]\u001b[38;2;102;102;102m.\u001b[39mastype(\u001b[38;2;0;128;0mstr\u001b[39m)\n",
      "    data[config\u001b[38;2;102;102;102m.\u001b[39mNUM_FEATURES] \u001b[38;2;102;102;102m=\u001b[39m data[config\u001b[38;2;102;102;102m.\u001b[39mNUM_FEATURES]\u001b[38;2;102;102;102m.\u001b[39mastype(\u001b[38;2;0;128;0mfloat\u001b[39m)\n",
      "\n",
      "    \u001b[38;2;0;128;0;01mif\u001b[39;00m target:\n",
      "        data \u001b[38;2;102;102;102m=\u001b[39m create_target_column(data)\n",
      "        \u001b[38;2;0;128;0;01mif\u001b[39;00m filter_target:\n",
      "            data \u001b[38;2;102;102;102m=\u001b[39m filter_ride_duration(data)\n",
      "\n",
      "        X \u001b[38;2;102;102;102m=\u001b[39m data[config\u001b[38;2;102;102;102m.\u001b[39mFEATURES]\n",
      "        Y \u001b[38;2;102;102;102m=\u001b[39m data[config\u001b[38;2;102;102;102m.\u001b[39mTARGET]\u001b[38;2;102;102;102m.\u001b[39mvalues\n",
      "\n",
      "        \u001b[38;2;0;128;0;01mreturn\u001b[39;00m X, Y\n",
      "    \u001b[38;2;0;128;0;01melse\u001b[39;00m:\n",
      "        X \u001b[38;2;102;102;102m=\u001b[39m data[config\u001b[38;2;102;102;102m.\u001b[39mFEATURES]\n",
      "        \u001b[38;2;0;128;0;01mreturn\u001b[39;00m X\n"
     ]
    }
   ],
   "source": [
    "!pygmentize ./utils/df_process.py"
   ]
  },
  {
   "cell_type": "markdown",
   "metadata": {},
   "source": [
    "The following will show the core classes used in this experiment project, which shall be the following list:\n",
    "\n",
    "- `feature_util.py`         - contains feature selection functions\n",
    "- `model_lienar.py`         - contains a linear model with mlflow integration (logging)\n",
    "- `model_linear_pudo.py`    - contains a linear model using the pu_do feature from `feature_util`\n",
    "- `model_trees.py`          - contains tree based models while using autolog feature of mlflow"
   ]
  },
  {
   "cell_type": "code",
   "execution_count": 10,
   "metadata": {},
   "outputs": [
    {
     "name": "stdout",
     "output_type": "stream",
     "text": [
      "\u001b[38;2;0;128;0;01mimport\u001b[39;00m \u001b[38;2;0;0;255;01mtime\u001b[39;00m\n",
      "\u001b[38;2;0;128;0;01mfrom\u001b[39;00m \u001b[38;2;0;0;255;01mpathlib\u001b[39;00m \u001b[38;2;0;128;0;01mimport\u001b[39;00m Path\n",
      "\n",
      "\u001b[38;2;0;128;0;01mimport\u001b[39;00m \u001b[38;2;0;0;255;01mmlflow\u001b[39;00m\n",
      "\u001b[38;2;0;128;0;01mimport\u001b[39;00m \u001b[38;2;0;0;255;01mpandas\u001b[39;00m \u001b[38;2;0;128;0;01mas\u001b[39;00m \u001b[38;2;0;0;255;01mpd\u001b[39;00m\n",
      "\u001b[38;2;0;128;0;01mfrom\u001b[39;00m \u001b[38;2;0;0;255;01mtoolz\u001b[39;00m \u001b[38;2;0;128;0;01mimport\u001b[39;00m compose\n",
      "\n",
      "\u001b[38;2;0;128;0;01mfrom\u001b[39;00m \u001b[38;2;0;0;255;01msklearn\u001b[39;00m\u001b[38;2;0;0;255;01m.\u001b[39;00m\u001b[38;2;0;0;255;01mmetrics\u001b[39;00m \u001b[38;2;0;128;0;01mimport\u001b[39;00m mean_squared_error\n",
      "\u001b[38;2;0;128;0;01mfrom\u001b[39;00m \u001b[38;2;0;0;255;01msklearn\u001b[39;00m\u001b[38;2;0;0;255;01m.\u001b[39;00m\u001b[38;2;0;0;255;01mpipeline\u001b[39;00m \u001b[38;2;0;128;0;01mimport\u001b[39;00m make_pipeline\n",
      "\u001b[38;2;0;128;0;01mfrom\u001b[39;00m \u001b[38;2;0;0;255;01msklearn\u001b[39;00m\u001b[38;2;0;0;255;01m.\u001b[39;00m\u001b[38;2;0;0;255;01mpreprocessing\u001b[39;00m \u001b[38;2;0;128;0;01mimport\u001b[39;00m FunctionTransformer\n",
      "\u001b[38;2;0;128;0;01mfrom\u001b[39;00m \u001b[38;2;0;0;255;01msklearn\u001b[39;00m\u001b[38;2;0;0;255;01m.\u001b[39;00m\u001b[38;2;0;0;255;01mfeature_extraction\u001b[39;00m \u001b[38;2;0;128;0;01mimport\u001b[39;00m DictVectorizer\n",
      "\n",
      "\u001b[38;2;0;128;0;01mfrom\u001b[39;00m \u001b[38;2;0;0;255;01mdf_util\u001b[39;00m \u001b[38;2;0;128;0;01mimport\u001b[39;00m plot_duration_histograms\n",
      "\u001b[38;2;0;128;0;01mfrom\u001b[39;00m \u001b[38;2;0;0;255;01mconfig\u001b[39;00m \u001b[38;2;0;128;0;01mimport\u001b[39;00m config\n",
      "\n",
      "ROOT_DIR \u001b[38;2;102;102;102m=\u001b[39m Path(\u001b[38;2;25;23;124m__file__\u001b[39m)\u001b[38;2;102;102;102m.\u001b[39mparents[\u001b[38;2;102;102;102m0\u001b[39m]\n",
      "DATA_DIR \u001b[38;2;102;102;102m=\u001b[39m ROOT_DIR \u001b[38;2;102;102;102m/\u001b[39m \u001b[38;2;186;33;33m\"\u001b[39m\u001b[38;2;186;33;33mdata\u001b[39m\u001b[38;2;186;33;33m\"\u001b[39m\n",
      "EXPERIMENT_NAME \u001b[38;2;102;102;102m=\u001b[39m \u001b[38;2;186;33;33m\"\u001b[39m\u001b[38;2;186;33;33mnyc-green-taxi\u001b[39m\u001b[38;2;186;33;33m\"\u001b[39m\n",
      "TRACKING_URI \u001b[38;2;102;102;102m=\u001b[39m \u001b[38;2;186;33;33m\"\u001b[39m\u001b[38;2;186;33;33mhttp://127.0.0.1:5001\u001b[39m\u001b[38;2;186;33;33m\"\u001b[39m\n",
      "\n",
      "\u001b[38;2;0;128;0;01mdef\u001b[39;00m \u001b[38;2;0;0;255msetup_experiment\u001b[39m():\n",
      "    mlflow\u001b[38;2;102;102;102m.\u001b[39mset_tracking_uri(TRACKING_URI)\n",
      "    mlflow\u001b[38;2;102;102;102m.\u001b[39mset_experiment(EXPERIMENT_NAME)\n",
      "\n",
      "\u001b[38;2;0;128;0;01mdef\u001b[39;00m \u001b[38;2;0;0;255mdata_dict\u001b[39m(debug\u001b[38;2;102;102;102m=\u001b[39m\u001b[38;2;0;128;0;01mFalse\u001b[39;00m):\n",
      "    train_data_path \u001b[38;2;102;102;102m=\u001b[39m DATA_DIR \u001b[38;2;102;102;102m/\u001b[39m \u001b[38;2;186;33;33m\"\u001b[39m\u001b[38;2;186;33;33mgreen_tripdata_2021-01.parquet\u001b[39m\u001b[38;2;186;33;33m\"\u001b[39m\n",
      "    valid_data_path \u001b[38;2;102;102;102m=\u001b[39m DATA_DIR \u001b[38;2;102;102;102m/\u001b[39m \u001b[38;2;186;33;33m\"\u001b[39m\u001b[38;2;186;33;33mgreen_tripdata_2021-02.parquet\u001b[39m\u001b[38;2;186;33;33m\"\u001b[39m\n",
      "    train_data \u001b[38;2;102;102;102m=\u001b[39m pd\u001b[38;2;102;102;102m.\u001b[39mread_parquet(train_data_path)\n",
      "    valid_data \u001b[38;2;102;102;102m=\u001b[39m pd\u001b[38;2;102;102;102m.\u001b[39mread_parquet(valid_data_path)\n",
      "\n",
      "    \u001b[38;2;0;128;0;01mreturn\u001b[39;00m {\n",
      "        \u001b[38;2;186;33;33m\"\u001b[39m\u001b[38;2;186;33;33mtrain_data\u001b[39m\u001b[38;2;186;33;33m\"\u001b[39m: train_data \u001b[38;2;0;128;0;01mif\u001b[39;00m \u001b[38;2;170;34;255;01mnot\u001b[39;00m debug \u001b[38;2;0;128;0;01melse\u001b[39;00m train_data[:\u001b[38;2;102;102;102m100\u001b[39m],\n",
      "        \u001b[38;2;186;33;33m\"\u001b[39m\u001b[38;2;186;33;33mvalid_data\u001b[39m\u001b[38;2;186;33;33m\"\u001b[39m: valid_data \u001b[38;2;0;128;0;01mif\u001b[39;00m \u001b[38;2;170;34;255;01mnot\u001b[39;00m debug \u001b[38;2;0;128;0;01melse\u001b[39;00m valid_data[:\u001b[38;2;102;102;102m100\u001b[39m],\n",
      "        \u001b[38;2;186;33;33m\"\u001b[39m\u001b[38;2;186;33;33mtrain_data_path\u001b[39m\u001b[38;2;186;33;33m\"\u001b[39m: train_data_path,\n",
      "        \u001b[38;2;186;33;33m\"\u001b[39m\u001b[38;2;186;33;33mvalid_data_path\u001b[39m\u001b[38;2;186;33;33m\"\u001b[39m: valid_data_path,\n",
      "    }\n",
      "\n",
      "\u001b[38;2;0;128;0;01mdef\u001b[39;00m \u001b[38;2;0;0;255madd_pudo_column\u001b[39m(df):\n",
      "    df[\u001b[38;2;186;33;33m\"\u001b[39m\u001b[38;2;186;33;33mPU_DO\u001b[39m\u001b[38;2;186;33;33m\"\u001b[39m] \u001b[38;2;102;102;102m=\u001b[39m df[\u001b[38;2;186;33;33m\"\u001b[39m\u001b[38;2;186;33;33mPULocationID\u001b[39m\u001b[38;2;186;33;33m\"\u001b[39m] \u001b[38;2;102;102;102m+\u001b[39m \u001b[38;2;186;33;33m\"\u001b[39m\u001b[38;2;186;33;33m_\u001b[39m\u001b[38;2;186;33;33m\"\u001b[39m \u001b[38;2;102;102;102m+\u001b[39m df[\u001b[38;2;186;33;33m\"\u001b[39m\u001b[38;2;186;33;33mDOLocationID\u001b[39m\u001b[38;2;186;33;33m\"\u001b[39m]\n",
      "    \u001b[38;2;0;128;0;01mreturn\u001b[39;00m df\n",
      "\n",
      "\u001b[38;2;0;128;0;01mdef\u001b[39;00m \u001b[38;2;0;0;255mfeature_selector\u001b[39m(df):\n",
      "    \u001b[38;2;0;128;0;01mif\u001b[39;00m \u001b[38;2;186;33;33m\"\u001b[39m\u001b[38;2;186;33;33mPU_DO\u001b[39m\u001b[38;2;186;33;33m\"\u001b[39m \u001b[38;2;170;34;255;01min\u001b[39;00m df\u001b[38;2;102;102;102m.\u001b[39mcolumns:\n",
      "        df \u001b[38;2;102;102;102m=\u001b[39m df[[\u001b[38;2;186;33;33m\"\u001b[39m\u001b[38;2;186;33;33mPU_DO\u001b[39m\u001b[38;2;186;33;33m\"\u001b[39m] \u001b[38;2;102;102;102m+\u001b[39m config\u001b[38;2;102;102;102m.\u001b[39mNUM_FEATURES]\n",
      "    \u001b[38;2;0;128;0;01mreturn\u001b[39;00m df\n",
      "\n",
      "\u001b[38;2;0;128;0;01mdef\u001b[39;00m \u001b[38;2;0;0;255mconvert_to_dict\u001b[39m(df):\n",
      "    \u001b[38;2;0;128;0;01mreturn\u001b[39;00m df\u001b[38;2;102;102;102m.\u001b[39mto_dict(orient\u001b[38;2;102;102;102m=\u001b[39m\u001b[38;2;186;33;33m\"\u001b[39m\u001b[38;2;186;33;33mrecords\u001b[39m\u001b[38;2;186;33;33m\"\u001b[39m)\n",
      "\n",
      "\u001b[38;2;0;128;0;01mdef\u001b[39;00m \u001b[38;2;0;0;255mfeature_pipeline\u001b[39m(transforms: \u001b[38;2;0;128;0mtuple\u001b[39m \u001b[38;2;102;102;102m=\u001b[39m ()):\n",
      "    \u001b[38;2;0;128;0;01mdef\u001b[39;00m \u001b[38;2;0;0;255mpreprocessor\u001b[39m(df):\n",
      "        \u001b[38;2;0;128;0;01mreturn\u001b[39;00m compose(\u001b[38;2;102;102;102m*\u001b[39mtransforms[::\u001b[38;2;102;102;102m-\u001b[39m\u001b[38;2;102;102;102m1\u001b[39m])(df)\n",
      "    \n",
      "    \u001b[38;2;0;128;0;01mreturn\u001b[39;00m make_pipeline(\n",
      "        FunctionTransformer(preprocessor),\n",
      "        FunctionTransformer(convert_to_dict),\n",
      "        DictVectorizer(),\n",
      "    )\n",
      "\n",
      "\u001b[38;2;0;128;0;01mdef\u001b[39;00m \u001b[38;2;0;0;255mmlflow_default_logging\u001b[39m(model, model_tag, data, X_train, y_train, X_valid, y_valid):\n",
      "    \u001b[38;2;61;123;123;03m# Predict time\u001b[39;00m\n",
      "    start_time \u001b[38;2;102;102;102m=\u001b[39m time\u001b[38;2;102;102;102m.\u001b[39mtime()\n",
      "    yp_train \u001b[38;2;102;102;102m=\u001b[39m model\u001b[38;2;102;102;102m.\u001b[39mpredict(X_train)\n",
      "    yp_valid \u001b[38;2;102;102;102m=\u001b[39m model\u001b[38;2;102;102;102m.\u001b[39mpredict(X_valid)\n",
      "    elapsed \u001b[38;2;102;102;102m=\u001b[39m time\u001b[38;2;102;102;102m.\u001b[39mtime() \u001b[38;2;102;102;102m-\u001b[39m start_time\n",
      "    N \u001b[38;2;102;102;102m=\u001b[39m \u001b[38;2;0;128;0mlen\u001b[39m(yp_train) \u001b[38;2;102;102;102m+\u001b[39m \u001b[38;2;0;128;0mlen\u001b[39m(yp_valid)\n",
      "    predict_time \u001b[38;2;102;102;102m=\u001b[39m elapsed \u001b[38;2;102;102;102m/\u001b[39m N\n",
      "\n",
      "    \u001b[38;2;61;123;123;03m# Metrics\u001b[39;00m\n",
      "    rmse_train \u001b[38;2;102;102;102m=\u001b[39m mean_squared_error(y_train, yp_train, squared\u001b[38;2;102;102;102m=\u001b[39m\u001b[38;2;0;128;0;01mFalse\u001b[39;00m)\n",
      "    rmse_valid \u001b[38;2;102;102;102m=\u001b[39m mean_squared_error(y_valid, yp_valid, squared\u001b[38;2;102;102;102m=\u001b[39m\u001b[38;2;0;128;0;01mFalse\u001b[39;00m)\n",
      "\n",
      "    \u001b[38;2;61;123;123;03m# Plot\u001b[39;00m\n",
      "    fig \u001b[38;2;102;102;102m=\u001b[39m plot_duration_histograms(y_train, yp_train, y_valid, yp_valid)\n",
      "\n",
      "    \u001b[38;2;61;123;123;03m# MLFlow logging\u001b[39;00m\n",
      "    mlflow\u001b[38;2;102;102;102m.\u001b[39mset_tag(\u001b[38;2;186;33;33m\"\u001b[39m\u001b[38;2;186;33;33mmodel\u001b[39m\u001b[38;2;186;33;33m\"\u001b[39m, model_tag)\n",
      "\n",
      "    mlflow\u001b[38;2;102;102;102m.\u001b[39mlog_param(\u001b[38;2;186;33;33m\"\u001b[39m\u001b[38;2;186;33;33mtrain_data_path\u001b[39m\u001b[38;2;186;33;33m\"\u001b[39m, data[\u001b[38;2;186;33;33m\"\u001b[39m\u001b[38;2;186;33;33mtrain_data_path\u001b[39m\u001b[38;2;186;33;33m\"\u001b[39m])\n",
      "    mlflow\u001b[38;2;102;102;102m.\u001b[39mlog_param(\u001b[38;2;186;33;33m\"\u001b[39m\u001b[38;2;186;33;33mvalid_data_path\u001b[39m\u001b[38;2;186;33;33m\"\u001b[39m, data[\u001b[38;2;186;33;33m\"\u001b[39m\u001b[38;2;186;33;33mvalid_data_path\u001b[39m\u001b[38;2;186;33;33m\"\u001b[39m])\n",
      "\n",
      "    mlflow\u001b[38;2;102;102;102m.\u001b[39mlog_metric(\u001b[38;2;186;33;33m\"\u001b[39m\u001b[38;2;186;33;33mrmse_train\u001b[39m\u001b[38;2;186;33;33m\"\u001b[39m, rmse_train)\n",
      "    mlflow\u001b[38;2;102;102;102m.\u001b[39mlog_metric(\u001b[38;2;186;33;33m\"\u001b[39m\u001b[38;2;186;33;33mrmse_valid\u001b[39m\u001b[38;2;186;33;33m\"\u001b[39m, rmse_valid)\n",
      "    mlflow\u001b[38;2;102;102;102m.\u001b[39mlog_metric(\u001b[38;2;186;33;33m\"\u001b[39m\u001b[38;2;186;33;33mpredict_time\u001b[39m\u001b[38;2;186;33;33m\"\u001b[39m, predict_time)\n",
      "\n",
      "    mlflow\u001b[38;2;102;102;102m.\u001b[39mlog_figure(fig, \u001b[38;2;186;33;33m\"\u001b[39m\u001b[38;2;186;33;33mplot.svg\u001b[39m\u001b[38;2;186;33;33m\"\u001b[39m)\n",
      "\n",
      "    \u001b[38;2;0;128;0;01mreturn\u001b[39;00m {\u001b[38;2;186;33;33m\"\u001b[39m\u001b[38;2;186;33;33mrmse_train\u001b[39m\u001b[38;2;186;33;33m\"\u001b[39m: rmse_train, \u001b[38;2;186;33;33m\"\u001b[39m\u001b[38;2;186;33;33mrmse_valid\u001b[39m\u001b[38;2;186;33;33m\"\u001b[39m: rmse_valid}\n"
     ]
    }
   ],
   "source": [
    "!pygmentize ./utils/feature_util.py"
   ]
  },
  {
   "cell_type": "code",
   "execution_count": 12,
   "metadata": {},
   "outputs": [
    {
     "name": "stdout",
     "output_type": "stream",
     "text": [
      "\u001b[38;2;0;128;0;01mimport\u001b[39;00m \u001b[38;2;0;0;255;01mos\u001b[39;00m\n",
      "\n",
      "\u001b[38;2;0;128;0;01mimport\u001b[39;00m \u001b[38;2;0;0;255;01mmlflow\u001b[39;00m\n",
      "\u001b[38;2;0;128;0;01mfrom\u001b[39;00m \u001b[38;2;0;0;255;01msklearn\u001b[39;00m\u001b[38;2;0;0;255;01m.\u001b[39;00m\u001b[38;2;0;0;255;01mlinear_model\u001b[39;00m \u001b[38;2;0;128;0;01mimport\u001b[39;00m LinearRegression\n",
      "\n",
      "\u001b[38;2;0;128;0;01mfrom\u001b[39;00m \u001b[38;2;0;0;255;01mutils\u001b[39;00m\u001b[38;2;0;0;255;01m.\u001b[39;00m\u001b[38;2;0;0;255;01mdf_process\u001b[39;00m \u001b[38;2;0;128;0;01mimport\u001b[39;00m preprocess\n",
      "\u001b[38;2;0;128;0;01mfrom\u001b[39;00m \u001b[38;2;0;0;255;01mutils\u001b[39;00m\u001b[38;2;0;0;255;01m.\u001b[39;00m\u001b[38;2;0;0;255;01mfeature_util\u001b[39;00m \u001b[38;2;0;128;0;01mimport\u001b[39;00m (\n",
      "    data_dict,\n",
      "    feature_pipeline,\n",
      "    setup_experiment,\n",
      "    mlflow_default_logging,\n",
      ")\n",
      "\n",
      "setup_experiment()\n",
      "data \u001b[38;2;102;102;102m=\u001b[39m data_dict(debug\u001b[38;2;102;102;102m=\u001b[39m\u001b[38;2;0;128;0mint\u001b[39m(os\u001b[38;2;102;102;102m.\u001b[39menviron[\u001b[38;2;186;33;33m\"\u001b[39m\u001b[38;2;186;33;33mDEBUG\u001b[39m\u001b[38;2;186;33;33m\"\u001b[39m]))\n",
      "\n",
      "\u001b[38;2;0;128;0;01mwith\u001b[39;00m mlflow\u001b[38;2;102;102;102m.\u001b[39mstart_run():\n",
      "    \u001b[38;2;61;123;123;03m# Preprocessing\u001b[39;00m\n",
      "    X_train, y_train \u001b[38;2;102;102;102m=\u001b[39m preprocess(data[\u001b[38;2;186;33;33m\"\u001b[39m\u001b[38;2;186;33;33mtrain_data\u001b[39m\u001b[38;2;186;33;33m\"\u001b[39m], target\u001b[38;2;102;102;102m=\u001b[39m\u001b[38;2;0;128;0;01mTrue\u001b[39;00m, filter_target\u001b[38;2;102;102;102m=\u001b[39m\u001b[38;2;0;128;0;01mTrue\u001b[39;00m)\n",
      "    X_valid, y_valid \u001b[38;2;102;102;102m=\u001b[39m preprocess(data[\u001b[38;2;186;33;33m\"\u001b[39m\u001b[38;2;186;33;33mvalid_data\u001b[39m\u001b[38;2;186;33;33m\"\u001b[39m], target\u001b[38;2;102;102;102m=\u001b[39m\u001b[38;2;0;128;0;01mTrue\u001b[39;00m, filter_target\u001b[38;2;102;102;102m=\u001b[39m\u001b[38;2;0;128;0;01mTrue\u001b[39;00m)\n",
      "\n",
      "    \u001b[38;2;61;123;123;03m# Fit feature pipe\u001b[39;00m\n",
      "    feature_pipe \u001b[38;2;102;102;102m=\u001b[39m feature_pipeline()\n",
      "    X_train \u001b[38;2;102;102;102m=\u001b[39m feature_pipe\u001b[38;2;102;102;102m.\u001b[39mfit_transform(X_train)\n",
      "    X_valid \u001b[38;2;102;102;102m=\u001b[39m feature_pipe\u001b[38;2;102;102;102m.\u001b[39mtransform(X_valid)\n",
      "\n",
      "    \u001b[38;2;61;123;123;03m# Fit model\u001b[39;00m\n",
      "    model \u001b[38;2;102;102;102m=\u001b[39m LinearRegression()\n",
      "    model\u001b[38;2;102;102;102m.\u001b[39mfit(X_train, y_train)\n",
      "\n",
      "    \u001b[38;2;61;123;123;03m# MLflow logging\u001b[39;00m\n",
      "    MODEL_TAG \u001b[38;2;102;102;102m=\u001b[39m \u001b[38;2;186;33;33m\"\u001b[39m\u001b[38;2;186;33;33mlinear\u001b[39m\u001b[38;2;186;33;33m\"\u001b[39m\n",
      "    mlflow_default_logging(model, MODEL_TAG, data, X_train, y_train, X_valid, y_valid)\n"
     ]
    }
   ],
   "source": [
    "!pygmentize model_linear.py"
   ]
  },
  {
   "cell_type": "code",
   "execution_count": 13,
   "metadata": {},
   "outputs": [
    {
     "name": "stdout",
     "output_type": "stream",
     "text": [
      "\u001b[38;2;0;128;0;01mimport\u001b[39;00m \u001b[38;2;0;0;255;01mos\u001b[39;00m\n",
      "\n",
      "\u001b[38;2;0;128;0;01mimport\u001b[39;00m \u001b[38;2;0;0;255;01mmlflow\u001b[39;00m\n",
      "\u001b[38;2;0;128;0;01mfrom\u001b[39;00m \u001b[38;2;0;0;255;01msklearn\u001b[39;00m\u001b[38;2;0;0;255;01m.\u001b[39;00m\u001b[38;2;0;0;255;01mlinear_model\u001b[39;00m \u001b[38;2;0;128;0;01mimport\u001b[39;00m LinearRegression\n",
      "\n",
      "\u001b[38;2;0;128;0;01mfrom\u001b[39;00m \u001b[38;2;0;0;255;01mutils\u001b[39;00m\u001b[38;2;0;0;255;01m.\u001b[39;00m\u001b[38;2;0;0;255;01mdf_process\u001b[39;00m \u001b[38;2;0;128;0;01mimport\u001b[39;00m preprocess\n",
      "\u001b[38;2;0;128;0;01mfrom\u001b[39;00m \u001b[38;2;0;0;255;01mutils\u001b[39;00m\u001b[38;2;0;0;255;01m.\u001b[39;00m\u001b[38;2;0;0;255;01mfeature_util\u001b[39;00m \u001b[38;2;0;128;0;01mimport\u001b[39;00m (\n",
      "    data_dict,\n",
      "    feature_pipeline,\n",
      "    setup_experiment,\n",
      "    mlflow_default_logging,\n",
      "    add_pudo_column,\n",
      "    feature_selector,\n",
      ")\n",
      "\n",
      "setup_experiment()\n",
      "data \u001b[38;2;102;102;102m=\u001b[39m data_dict(debug\u001b[38;2;102;102;102m=\u001b[39m\u001b[38;2;0;128;0mint\u001b[39m(os\u001b[38;2;102;102;102m.\u001b[39menviron[\u001b[38;2;186;33;33m\"\u001b[39m\u001b[38;2;186;33;33mDEBUG\u001b[39m\u001b[38;2;186;33;33m\"\u001b[39m]))\n",
      "\n",
      "\u001b[38;2;0;128;0;01mwith\u001b[39;00m mlflow\u001b[38;2;102;102;102m.\u001b[39mstart_run():\n",
      "    \u001b[38;2;61;123;123;03m# Preprocessing\u001b[39;00m\n",
      "    X_train, y_train \u001b[38;2;102;102;102m=\u001b[39m preprocess(data[\u001b[38;2;186;33;33m\"\u001b[39m\u001b[38;2;186;33;33mtrain_data\u001b[39m\u001b[38;2;186;33;33m\"\u001b[39m], target\u001b[38;2;102;102;102m=\u001b[39m\u001b[38;2;0;128;0;01mTrue\u001b[39;00m, filter_target\u001b[38;2;102;102;102m=\u001b[39m\u001b[38;2;0;128;0;01mTrue\u001b[39;00m)\n",
      "    X_valid, y_valid \u001b[38;2;102;102;102m=\u001b[39m preprocess(data[\u001b[38;2;186;33;33m\"\u001b[39m\u001b[38;2;186;33;33mvalid_data\u001b[39m\u001b[38;2;186;33;33m\"\u001b[39m], target\u001b[38;2;102;102;102m=\u001b[39m\u001b[38;2;0;128;0;01mTrue\u001b[39;00m, filter_target\u001b[38;2;102;102;102m=\u001b[39m\u001b[38;2;0;128;0;01mTrue\u001b[39;00m)\n",
      "\n",
      "    \u001b[38;2;61;123;123;03m# Feature engineering + selection\u001b[39;00m\n",
      "    transforms \u001b[38;2;102;102;102m=\u001b[39m [add_pudo_column, feature_selector]\n",
      "\n",
      "    \u001b[38;2;61;123;123;03m# Fit feature pipe\u001b[39;00m\n",
      "    feature_pipe \u001b[38;2;102;102;102m=\u001b[39m feature_pipeline(transforms)\n",
      "    X_train \u001b[38;2;102;102;102m=\u001b[39m feature_pipe\u001b[38;2;102;102;102m.\u001b[39mfit_transform(X_train)\n",
      "    X_valid \u001b[38;2;102;102;102m=\u001b[39m feature_pipe\u001b[38;2;102;102;102m.\u001b[39mtransform(X_valid)\n",
      "\n",
      "    \u001b[38;2;61;123;123;03m# Fit model\u001b[39;00m\n",
      "    model \u001b[38;2;102;102;102m=\u001b[39m LinearRegression()\n",
      "    model\u001b[38;2;102;102;102m.\u001b[39mfit(X_train, y_train)\n",
      "\n",
      "    \u001b[38;2;61;123;123;03m# MLflow logging\u001b[39;00m\n",
      "    MODEL_TAG \u001b[38;2;102;102;102m=\u001b[39m \u001b[38;2;186;33;33m\"\u001b[39m\u001b[38;2;186;33;33mlinear_pudo\u001b[39m\u001b[38;2;186;33;33m\"\u001b[39m\n",
      "    mlflow_default_logging(model, MODEL_TAG, data, X_train, y_train, X_valid, y_valid)\n"
     ]
    }
   ],
   "source": [
    "!pygmentize model_linear_pudo.py"
   ]
  },
  {
   "cell_type": "code",
   "execution_count": 14,
   "metadata": {},
   "outputs": [
    {
     "name": "stdout",
     "output_type": "stream",
     "text": [
      "\u001b[38;2;0;128;0;01mimport\u001b[39;00m \u001b[38;2;0;0;255;01mos\u001b[39;00m\n",
      "\n",
      "\u001b[38;2;0;128;0;01mimport\u001b[39;00m \u001b[38;2;0;0;255;01mmlflow\u001b[39;00m\n",
      "\u001b[38;2;0;128;0;01mfrom\u001b[39;00m \u001b[38;2;0;0;255;01msklearn\u001b[39;00m\u001b[38;2;0;0;255;01m.\u001b[39;00m\u001b[38;2;0;0;255;01mensemble\u001b[39;00m \u001b[38;2;0;128;0;01mimport\u001b[39;00m (\n",
      "    ExtraTreesRegressor,\n",
      "    RandomForestRegressor,\n",
      "    GradientBoostingRegressor,\n",
      ")\n",
      "\n",
      "\u001b[38;2;0;128;0;01mfrom\u001b[39;00m \u001b[38;2;0;0;255;01mutils\u001b[39;00m\u001b[38;2;0;0;255;01m.\u001b[39;00m\u001b[38;2;0;0;255;01mdf_process\u001b[39;00m \u001b[38;2;0;128;0;01mimport\u001b[39;00m preprocess\n",
      "\u001b[38;2;0;128;0;01mfrom\u001b[39;00m \u001b[38;2;0;0;255;01mutils\u001b[39;00m\u001b[38;2;0;0;255;01m.\u001b[39;00m\u001b[38;2;0;0;255;01mfeature_util\u001b[39;00m \u001b[38;2;0;128;0;01mimport\u001b[39;00m (\n",
      "    data_dict,\n",
      "    feature_pipeline,\n",
      "    setup_experiment,\n",
      "    mlflow_default_logging,\n",
      ")\n",
      "\n",
      "setup_experiment()\n",
      "mlflow\u001b[38;2;102;102;102m.\u001b[39msklearn\u001b[38;2;102;102;102m.\u001b[39mautolog()\n",
      "data \u001b[38;2;102;102;102m=\u001b[39m data_dict(debug\u001b[38;2;102;102;102m=\u001b[39m\u001b[38;2;0;128;0mint\u001b[39m(os\u001b[38;2;102;102;102m.\u001b[39menviron[\u001b[38;2;186;33;33m\"\u001b[39m\u001b[38;2;186;33;33mDEBUG\u001b[39m\u001b[38;2;186;33;33m\"\u001b[39m]))\n",
      "\n",
      "\u001b[38;2;0;128;0;01mdef\u001b[39;00m \u001b[38;2;0;0;255mrun\u001b[39m(model_class):\n",
      "    \u001b[38;2;0;128;0;01mwith\u001b[39;00m mlflow\u001b[38;2;102;102;102m.\u001b[39mstart_run():\n",
      "        \u001b[38;2;61;123;123;03m# Preprocessing\u001b[39;00m\n",
      "        train \u001b[38;2;102;102;102m=\u001b[39m data[\u001b[38;2;186;33;33m\"\u001b[39m\u001b[38;2;186;33;33mtrain_data\u001b[39m\u001b[38;2;186;33;33m\"\u001b[39m]\n",
      "        valid \u001b[38;2;102;102;102m=\u001b[39m data[\u001b[38;2;186;33;33m\"\u001b[39m\u001b[38;2;186;33;33mvalid_data\u001b[39m\u001b[38;2;186;33;33m\"\u001b[39m]\n",
      "        X_train, y_train \u001b[38;2;102;102;102m=\u001b[39m preprocess(train, target\u001b[38;2;102;102;102m=\u001b[39m\u001b[38;2;0;128;0;01mTrue\u001b[39;00m, filter_target\u001b[38;2;102;102;102m=\u001b[39m\u001b[38;2;0;128;0;01mTrue\u001b[39;00m)\n",
      "        X_valid, y_valid \u001b[38;2;102;102;102m=\u001b[39m preprocess(valid, target\u001b[38;2;102;102;102m=\u001b[39m\u001b[38;2;0;128;0;01mTrue\u001b[39;00m, filter_target\u001b[38;2;102;102;102m=\u001b[39m\u001b[38;2;0;128;0;01mTrue\u001b[39;00m)\n",
      "\n",
      "        \u001b[38;2;61;123;123;03m# Fit feature pipe\u001b[39;00m\n",
      "        feature_pipe \u001b[38;2;102;102;102m=\u001b[39m feature_pipeline()\n",
      "        X_train \u001b[38;2;102;102;102m=\u001b[39m feature_pipe\u001b[38;2;102;102;102m.\u001b[39mfit_transform(X_train)\n",
      "        X_valid \u001b[38;2;102;102;102m=\u001b[39m feature_pipe\u001b[38;2;102;102;102m.\u001b[39mtransform(X_valid)\n",
      "\n",
      "        \u001b[38;2;61;123;123;03m# Fit model\u001b[39;00m\n",
      "        model \u001b[38;2;102;102;102m=\u001b[39m model_class()\n",
      "        model\u001b[38;2;102;102;102m.\u001b[39mfit(X_train, y_train)\n",
      "\n",
      "        \u001b[38;2;61;123;123;03m# MLFLow logging (default + feature pipe)\u001b[39;00m\n",
      "        MODEL_TAG \u001b[38;2;102;102;102m=\u001b[39m model_class\u001b[38;2;102;102;102m.\u001b[39m\u001b[38;2;25;23;124m__name__\u001b[39m\n",
      "        args \u001b[38;2;102;102;102m=\u001b[39m [model, MODEL_TAG, data, X_train, y_train, X_valid, y_valid]\n",
      "        mlflow_default_logging(\u001b[38;2;102;102;102m*\u001b[39margs)\n",
      "        mlflow\u001b[38;2;102;102;102m.\u001b[39msklearn\u001b[38;2;102;102;102m.\u001b[39mlog_model(feature_pipe, \u001b[38;2;186;33;33m\"\u001b[39m\u001b[38;2;186;33;33mfeature_pipe\u001b[39m\u001b[38;2;186;33;33m\"\u001b[39m)\n",
      "\n",
      "\u001b[38;2;0;128;0;01mif\u001b[39;00m \u001b[38;2;25;23;124m__name__\u001b[39m \u001b[38;2;102;102;102m==\u001b[39m \u001b[38;2;186;33;33m\"\u001b[39m\u001b[38;2;186;33;33m__main__\u001b[39m\u001b[38;2;186;33;33m\"\u001b[39m:\n",
      "    \u001b[38;2;0;128;0;01mfor\u001b[39;00m model_class \u001b[38;2;170;34;255;01min\u001b[39;00m [\n",
      "        ExtraTreesRegressor,\n",
      "        GradientBoostingRegressor,\n",
      "        RandomForestRegressor,\n",
      "    ]:\n",
      "        run(model_class)\n"
     ]
    }
   ],
   "source": [
    "!pygmentize model_trees.py"
   ]
  },
  {
   "cell_type": "code",
   "execution_count": null,
   "metadata": {},
   "outputs": [],
   "source": []
  }
 ],
 "metadata": {
  "kernelspec": {
   "display_name": "Python 3 (ipykernel)",
   "language": "python",
   "name": "python3"
  },
  "language_info": {
   "codemirror_mode": {
    "name": "ipython",
    "version": 3
   },
   "file_extension": ".py",
   "mimetype": "text/x-python",
   "name": "python",
   "nbconvert_exporter": "python",
   "pygments_lexer": "ipython3",
   "version": "3.9.5"
  }
 },
 "nbformat": 4,
 "nbformat_minor": 2
}
